{
 "cells": [
  {
   "attachments": {},
   "cell_type": "markdown",
   "metadata": {},
   "source": [
    "> **Tip**: Welcome to the Investigate a Dataset project! You will find tips in quoted sections like this to help organize your approach to your investigation. Once you complete this project, remove these **Tip** sections from your report before submission. First things first, you might want to double-click this Markdown cell and change the title so that it reflects your dataset and investigation.\n",
    "\n",
    "# Project: Investigate a Dataset - [TMDb movie data]\n",
    "\n",
    "## Table of Contents\n",
    "<ul>\n",
    "<li><a href=\"#intro\">Introduction</a></li>\n",
    "<li><a href=\"#wrangling\">Data Wrangling</a></li>\n",
    "<li><a href=\"#eda\">Exploratory Data Analysis</a></li>\n",
    "<li><a href=\"#conclusions\">Conclusions</a></li>\n",
    "</ul>"
   ]
  },
  {
   "attachments": {},
   "cell_type": "markdown",
   "metadata": {},
   "source": [
    "<a id='intro'></a>\n",
    "## Introduction\n",
    "\n",
    "### Dataset Description \n",
    "\n",
    "> This data set contains information\n",
    "about 10,000 movies collected from\n",
    "The Movie Database (TMDb),\n",
    "including user ratings and revenue\n",
    "\n",
    "\n",
    "### Question(s) for Analysis\n",
    ">**Question 1**: What are the most 5 poplular movie genres and what is their revenue?\n",
    "\n",
    ">**Question 2**: What are the most 2 associated genres?\n",
    "\n",
    ">**Question 3**: What is the best studio that got these genres on the best rate?\n",
    "\n",
    ">**Question 4**: How much money does it take to make a movie with these genres and with the best studio *Theoraticly* ? what is the possible revenue range ? "
   ]
  },
  {
   "cell_type": "code",
   "execution_count": 187,
   "metadata": {
    "collapsed": true
   },
   "outputs": [],
   "source": [
    "# Use this cell to set up import statements for all of the packages that you\n",
    "#   plan to use.\n",
    "\n",
    "# Remember to include a 'magic word' so that your visualizations are plotted\n",
    "#   inline with the notebook. See this page for more:\n",
    "#   http://ipython.readthedocs.io/en/stable/interactive/magics.html\n",
    "import numpy as np\n",
    "import pandas as pd\n",
    "import matplotlib.pyplot as plt\n",
    "%matplotlib inline"
   ]
  },
  {
   "attachments": {},
   "cell_type": "markdown",
   "metadata": {},
   "source": [
    "<a id='wrangling'></a>\n",
    "## Data Wrangling\n"
   ]
  },
  {
   "attachments": {},
   "cell_type": "markdown",
   "metadata": {},
   "source": [
    "### Defining neccesary functions"
   ]
  },
  {
   "cell_type": "code",
   "execution_count": 188,
   "metadata": {},
   "outputs": [],
   "source": [
    "def check_na_df(df:pd.DataFrame):\n",
    "    '''\n",
    "        parameters:\n",
    "        df : the desired datafarme we wish to inspect\n",
    "        this functions checks for nun values in each column of the desired df\n",
    "        and returns a dataframe with the result \n",
    "    '''\n",
    "    column_names = df.columns\n",
    "    na_dict = {}\n",
    "    for column in column_names:\n",
    "        na_dict[column]=df[column].isna().sum()\n",
    "    return pd.DataFrame(na_dict,index=['number of nan values']).transpose()"
   ]
  },
  {
   "cell_type": "code",
   "execution_count": 189,
   "metadata": {},
   "outputs": [],
   "source": [
    "def seperating_strings_into_dfs(df:pd.DataFrame,column_name:str):\n",
    "    '''\n",
    "        parameters:\n",
    "        df: pandas DataFrame\n",
    "        column_name: String\n",
    "        return: DataFrame\n",
    "        In this function we are trying to split the strings with ('|') like('Action|Adventure|Thriller|Drama') \n",
    "        to a list ['Action','Adventure','Thriller','Drama'] and then map into this list to create a dictionary which we\n",
    "        want to know how many times did this value repeated itself and added a value for the revenue and budget for each value\n",
    "        to return in a dataframe to analyize it\n",
    "    '''\n",
    "    new_df=df.copy()\n",
    "    new_df['budget'].fillna(new_df['budget'].mean(),inplace=True)\n",
    "    new_df['revenue'].fillna(new_df['revenue'].mean(),inplace=True)\n",
    "    new_df = new_df[[column_name,'budget','revenue']].dropna()\n",
    "    seperated = {}\n",
    "    for row in new_df.values:\n",
    "        for value in row[0].split('|'):\n",
    "            if(seperated.get(value)):\n",
    "                seperated[value][0] +=1\n",
    "                seperated[value][1] +=row[1]\n",
    "                seperated[value][2] +=row[2]\n",
    "            else:\n",
    "                seperated[value]=[]\n",
    "                seperated[value].append(1)\n",
    "                seperated[value].append(row[1])\n",
    "                seperated[value].append(row[2])\n",
    "    return pd.DataFrame(seperated,index=['frequency','budget','revenue']).transpose().sort_values('frequency',ascending=False)"
   ]
  },
  {
   "cell_type": "code",
   "execution_count": 190,
   "metadata": {},
   "outputs": [],
   "source": [
    "def getting_associated_genres(df:pd.DataFrame):\n",
    "    '''\n",
    "        parameters:\n",
    "        df: DataFrame\n",
    "        return DataFrame\n",
    "        this functions goes into the genres column of the dataframe to find out top 2 common associated genres \n",
    "    '''\n",
    "    associated_genres = {}\n",
    "    for row in df:\n",
    "        row_list = str(row).split('|')\n",
    "        for first_value in range(len(row_list)):\n",
    "            for second_value in range(first_value+1,len(row_list)):\n",
    "                if(row_list[first_value]+'\\n'+row_list[second_value] not in associated_genres):\n",
    "                    if(row_list[second_value]+'\\n'+row_list[first_value] not in associated_genres):\n",
    "                        associated_genres[row_list[first_value]+'\\n'+row_list[second_value]]=1\n",
    "                    else:\n",
    "                        associated_genres[row_list[second_value]+'\\n'+row_list[first_value]]+=1\n",
    "                else:\n",
    "                    associated_genres[row_list[first_value]+'\\n'+row_list[second_value]]+=1\n",
    "    return pd.DataFrame(associated_genres,index=['Frequency']).transpose().sort_values('Frequency',ascending=False)"
   ]
  },
  {
   "attachments": {},
   "cell_type": "markdown",
   "metadata": {},
   "source": [
    "### information about missing values:\n",
    "##### after checking for missing values I found out we lack some informations in the:(imdb_id,cast,director,tagline,keywords,and production companies,genres) columns which can't be replaced with custom values but not so important in our analysis and we also production companies is an important value but with only around 10% missing I believe we still can process now till we collect the missing values genres only missing 23 value it is far less than 0.01% but we are missing too many homepage,keywords,tagline but they can't be important for this analysis\n",
    "### dataframe challenges:\n",
    "##### It is noticed that alot of the string values: (genre,cast,producting companies) have list of data inside of it seperated with ( **|** ) so we gonna split them and create a dataframe for each\n",
    ">### with the questions we want to ask it would be better if we used only the columns we are interested in\n",
    "\n",
    ">### I chosed to  drop the na values as only companies will delete alot of info but we still using 90% of the data"
   ]
  },
  {
   "cell_type": "code",
   "execution_count": 191,
   "metadata": {
    "collapsed": true
   },
   "outputs": [
    {
     "name": "stdout",
     "output_type": "stream",
     "text": [
      "id                       int64\n",
      "budget                   int64\n",
      "revenue                  int64\n",
      "director                object\n",
      "genres                  object\n",
      "production_companies    object\n",
      "dtype: object\n"
     ]
    },
    {
     "data": {
      "text/html": [
       "<div>\n",
       "<style scoped>\n",
       "    .dataframe tbody tr th:only-of-type {\n",
       "        vertical-align: middle;\n",
       "    }\n",
       "\n",
       "    .dataframe tbody tr th {\n",
       "        vertical-align: top;\n",
       "    }\n",
       "\n",
       "    .dataframe thead th {\n",
       "        text-align: right;\n",
       "    }\n",
       "</style>\n",
       "<table border=\"1\" class=\"dataframe\">\n",
       "  <thead>\n",
       "    <tr style=\"text-align: right;\">\n",
       "      <th></th>\n",
       "      <th>id</th>\n",
       "      <th>budget</th>\n",
       "      <th>revenue</th>\n",
       "      <th>director</th>\n",
       "      <th>genres</th>\n",
       "      <th>production_companies</th>\n",
       "    </tr>\n",
       "  </thead>\n",
       "  <tbody>\n",
       "    <tr>\n",
       "      <th>0</th>\n",
       "      <td>135397</td>\n",
       "      <td>150000000</td>\n",
       "      <td>1513528810</td>\n",
       "      <td>Colin Trevorrow</td>\n",
       "      <td>Action|Adventure|Science Fiction|Thriller</td>\n",
       "      <td>Universal Studios|Amblin Entertainment|Legenda...</td>\n",
       "    </tr>\n",
       "    <tr>\n",
       "      <th>1</th>\n",
       "      <td>76341</td>\n",
       "      <td>150000000</td>\n",
       "      <td>378436354</td>\n",
       "      <td>George Miller</td>\n",
       "      <td>Action|Adventure|Science Fiction|Thriller</td>\n",
       "      <td>Village Roadshow Pictures|Kennedy Miller Produ...</td>\n",
       "    </tr>\n",
       "  </tbody>\n",
       "</table>\n",
       "</div>"
      ],
      "text/plain": [
       "       id     budget     revenue         director  \\\n",
       "0  135397  150000000  1513528810  Colin Trevorrow   \n",
       "1   76341  150000000   378436354    George Miller   \n",
       "\n",
       "                                      genres  \\\n",
       "0  Action|Adventure|Science Fiction|Thriller   \n",
       "1  Action|Adventure|Science Fiction|Thriller   \n",
       "\n",
       "                                production_companies  \n",
       "0  Universal Studios|Amblin Entertainment|Legenda...  \n",
       "1  Village Roadshow Pictures|Kennedy Miller Produ...  "
      ]
     },
     "execution_count": 191,
     "metadata": {},
     "output_type": "execute_result"
    },
    {
     "data": {
      "image/png": "[encoded data removed]",
      "text/plain": [
       "<Figure size 640x480 with 1 Axes>"
      ]
     },
     "metadata": {},
     "output_type": "display_data"
    }
   ],
   "source": [
    "# Load your data and print out a few lines. Perform operations to inspect data\n",
    "#   types and look for instances of missing or possibly errant data.\n",
    "df = pd.read_csv('tmdb-movies.csv')\n",
    "df= df[['id','budget','revenue','director','genres','production_companies']]\n",
    "print(df.dtypes)\n",
    "na_df=check_na_df(df=df)\n",
    "na_df.plot(kind='bar');\n",
    "df.head(2)"
   ]
  },
  {
   "attachments": {},
   "cell_type": "markdown",
   "metadata": {},
   "source": [
    "\n",
    "### Data Cleaning\n",
    "> with only 10% of the data missing from the production company column which is important in our analysis, Decided to drop all the rows to stay with 90% of the data \n",
    "\n",
    "> Got all the DataFrames ready to analysis with spliting text and getting the associated genres"
   ]
  },
  {
   "cell_type": "code",
   "execution_count": 192,
   "metadata": {
    "collapsed": true
   },
   "outputs": [],
   "source": [
    "# After discussing the structure of the data and any problems that need to be\n",
    "#   cleaned, perform those cleaning steps in the second part of this section.\n",
    "df.dropna(inplace=True)\n",
    "genres = seperating_strings_into_dfs(df=df,column_name='genres')\n",
    "production_companies = seperating_strings_into_dfs(df=df,column_name='production_companies')\n",
    "top_2_associated_genres=getting_associated_genres(df['genres'])"
   ]
  },
  {
   "attachments": {},
   "cell_type": "markdown",
   "metadata": {},
   "source": [
    "<a id='eda'></a>\n",
    "## Exploratory Data Analysis\n",
    "\n",
    "### Research Question 1 (Top 5 Common genres)\n",
    "here I splited the genres to get every genre and its frequency, revenue, budget to analyize \n",
    "first I used the frequency to know the most common one"
   ]
  },
  {
   "cell_type": "code",
   "execution_count": 193,
   "metadata": {
    "collapsed": true
   },
   "outputs": [
    {
     "data": {
      "image/png": "[encoded data removed]",
      "text/plain": [
       "<Figure size 1000x1000 with 1 Axes>"
      ]
     },
     "metadata": {},
     "output_type": "display_data"
    }
   ],
   "source": [
    "# Use this, and more code cells, to explore your data. Don't forget to add\n",
    "#   Markdown cells to document your observations and findings.\n",
    "plt.figure(figsize=(10,10))\n",
    "top_5_genres = genres.sort_values('frequency',ascending=False).head(5)\n",
    "plt.bar(top_5_genres.index,top_5_genres['frequency']);"
   ]
  },
  {
   "attachments": {},
   "cell_type": "markdown",
   "metadata": {},
   "source": [
    "After that I got the revenue of each compared"
   ]
  },
  {
   "cell_type": "code",
   "execution_count": 194,
   "metadata": {},
   "outputs": [
    {
     "data": {
      "image/png": "[encoded data removed]",
      "text/plain": [
       "<Figure size 640x480 with 1 Axes>"
      ]
     },
     "metadata": {},
     "output_type": "display_data"
    }
   ],
   "source": [
    "plt.bar(top_5_genres.index,top_5_genres['revenue']);"
   ]
  },
  {
   "attachments": {},
   "cell_type": "markdown",
   "metadata": {},
   "source": [
    "### Research Question 2  (Top 2 associated genres)\n",
    "here I got all the 2 genres that came togather in movies and compared thier frequencies to get the top 2 genres"
   ]
  },
  {
   "cell_type": "code",
   "execution_count": 195,
   "metadata": {
    "collapsed": true
   },
   "outputs": [
    {
     "data": {
      "image/png": "[encoded data removed]",
      "text/plain": [
       "<Figure size 640x480 with 1 Axes>"
      ]
     },
     "metadata": {},
     "output_type": "display_data"
    }
   ],
   "source": [
    "# Continue to explore the data to address your additional research\n",
    "#   questions. Add more headers as needed if you have more questions to\n",
    "#   investigate.\n",
    "plt.bar(top_2_associated_genres.head().index,top_2_associated_genres.head()['Frequency']);"
   ]
  },
  {
   "attachments": {},
   "cell_type": "markdown",
   "metadata": {},
   "source": [
    "### Research Question 3  (which production company got these genres in the best rate)\n",
    "here I got only the rows with drama and thriller genres togather and got the companies that casted them and compared the revenue between them"
   ]
  },
  {
   "cell_type": "code",
   "execution_count": 196,
   "metadata": {},
   "outputs": [
    {
     "data": {
      "image/png": "[encoded data removed]",
      "text/plain": [
       "<Figure size 1500x1000 with 1 Axes>"
      ]
     },
     "metadata": {},
     "output_type": "display_data"
    }
   ],
   "source": [
    "\n",
    "research_df = df.copy()\n",
    "research_df=df[(df['genres'].str.contains('Drama'))]\n",
    "research_df=df[df['genres'].str.contains('Thriller')]\n",
    "research_df=research_df.sort_values('revenue',ascending=False)\n",
    "companies_df=seperating_strings_into_dfs(research_df,'production_companies')\n",
    "companies_df.sort_values('revenue',ascending=False,inplace=True)\n",
    "plt.figure(figsize=(15,10));\n",
    "plt.bar(companies_df.head().index,companies_df.head()['revenue']);"
   ]
  },
  {
   "attachments": {},
   "cell_type": "markdown",
   "metadata": {},
   "source": [
    "### Research Question 4  (How much money does it take to make a movie with these genres and with the best studio *Theoraticly* ? what is the possible revenue range ?)\n",
    "###### first of all modified the dataframe to get only the rows where the company 'Warner Bros.' can be found\n",
    "###### here I found that some of the revenues and budgets are 0s so I splitted them to proceed\n",
    "###### divided them by 1million so the analysis can be easier"
   ]
  },
  {
   "cell_type": "code",
   "execution_count": 197,
   "metadata": {},
   "outputs": [
    {
     "data": {
      "text/html": [
       "<div>\n",
       "<style scoped>\n",
       "    .dataframe tbody tr th:only-of-type {\n",
       "        vertical-align: middle;\n",
       "    }\n",
       "\n",
       "    .dataframe tbody tr th {\n",
       "        vertical-align: top;\n",
       "    }\n",
       "\n",
       "    .dataframe thead th {\n",
       "        text-align: right;\n",
       "    }\n",
       "</style>\n",
       "<table border=\"1\" class=\"dataframe\">\n",
       "  <thead>\n",
       "    <tr style=\"text-align: right;\">\n",
       "      <th></th>\n",
       "      <th>id</th>\n",
       "      <th>budget</th>\n",
       "      <th>revenue</th>\n",
       "      <th>director</th>\n",
       "      <th>genres</th>\n",
       "      <th>production_companies</th>\n",
       "    </tr>\n",
       "  </thead>\n",
       "  <tbody>\n",
       "    <tr>\n",
       "      <th>4363</th>\n",
       "      <td>49026</td>\n",
       "      <td>250000000</td>\n",
       "      <td>1081041287</td>\n",
       "      <td>Christopher Nolan</td>\n",
       "      <td>Action|Crime|Drama|Thriller</td>\n",
       "      <td>Legendary Pictures|Warner Bros.|DC Entertainme...</td>\n",
       "    </tr>\n",
       "    <tr>\n",
       "      <th>2875</th>\n",
       "      <td>155</td>\n",
       "      <td>185000000</td>\n",
       "      <td>1001921825</td>\n",
       "      <td>Christopher Nolan</td>\n",
       "      <td>Drama|Action|Crime|Thriller</td>\n",
       "      <td>DC Comics|Legendary Pictures|Warner Bros.|Syncopy</td>\n",
       "    </tr>\n",
       "    <tr>\n",
       "      <th>1919</th>\n",
       "      <td>27205</td>\n",
       "      <td>160000000</td>\n",
       "      <td>825500000</td>\n",
       "      <td>Christopher Nolan</td>\n",
       "      <td>Action|Thriller|Science Fiction|Mystery|Adventure</td>\n",
       "      <td>Legendary Pictures|Warner Bros.|Syncopy</td>\n",
       "    </tr>\n",
       "    <tr>\n",
       "      <th>4954</th>\n",
       "      <td>604</td>\n",
       "      <td>150000000</td>\n",
       "      <td>738599701</td>\n",
       "      <td>Lilly Wachowski|Lana Wachowski</td>\n",
       "      <td>Adventure|Action|Thriller|Science Fiction</td>\n",
       "      <td>Village Roadshow Pictures|NPV Entertainment|He...</td>\n",
       "    </tr>\n",
       "    <tr>\n",
       "      <th>5423</th>\n",
       "      <td>49047</td>\n",
       "      <td>105000000</td>\n",
       "      <td>716392705</td>\n",
       "      <td>Alfonso CuarÃ³n</td>\n",
       "      <td>Science Fiction|Thriller|Drama</td>\n",
       "      <td>Warner Bros.|Heyday Films|Esperanto Filmoj</td>\n",
       "    </tr>\n",
       "    <tr>\n",
       "      <th>...</th>\n",
       "      <td>...</td>\n",
       "      <td>...</td>\n",
       "      <td>...</td>\n",
       "      <td>...</td>\n",
       "      <td>...</td>\n",
       "      <td>...</td>\n",
       "    </tr>\n",
       "    <tr>\n",
       "      <th>8883</th>\n",
       "      <td>36047</td>\n",
       "      <td>15000000</td>\n",
       "      <td>5217498</td>\n",
       "      <td>Mary Lambert</td>\n",
       "      <td>Thriller</td>\n",
       "      <td>Warner Bros. Pictures</td>\n",
       "    </tr>\n",
       "    <tr>\n",
       "      <th>8788</th>\n",
       "      <td>18041</td>\n",
       "      <td>14000000</td>\n",
       "      <td>5108820</td>\n",
       "      <td>Davis Guggenheim</td>\n",
       "      <td>Drama|Mystery|Thriller</td>\n",
       "      <td>Warner Bros. Pictures</td>\n",
       "    </tr>\n",
       "    <tr>\n",
       "      <th>9932</th>\n",
       "      <td>636</td>\n",
       "      <td>777000</td>\n",
       "      <td>2437000</td>\n",
       "      <td>George Lucas</td>\n",
       "      <td>Drama|Mystery|Science Fiction|Thriller</td>\n",
       "      <td>American Zoetrope|Warner Bros.</td>\n",
       "    </tr>\n",
       "    <tr>\n",
       "      <th>9358</th>\n",
       "      <td>13154</td>\n",
       "      <td>8000000</td>\n",
       "      <td>2275557</td>\n",
       "      <td>Mark L. Lester</td>\n",
       "      <td>Action|Thriller</td>\n",
       "      <td>Warner Bros.</td>\n",
       "    </tr>\n",
       "    <tr>\n",
       "      <th>10266</th>\n",
       "      <td>4722</td>\n",
       "      <td>13000000</td>\n",
       "      <td>428868</td>\n",
       "      <td>Abel Ferrara</td>\n",
       "      <td>Horror|Science Fiction|Thriller</td>\n",
       "      <td>Warner Bros. Pictures|Dorset Productions|Rober...</td>\n",
       "    </tr>\n",
       "  </tbody>\n",
       "</table>\n",
       "<p>136 rows × 6 columns</p>\n",
       "</div>"
      ],
      "text/plain": [
       "          id     budget     revenue                        director  \\\n",
       "4363   49026  250000000  1081041287               Christopher Nolan   \n",
       "2875     155  185000000  1001921825               Christopher Nolan   \n",
       "1919   27205  160000000   825500000               Christopher Nolan   \n",
       "4954     604  150000000   738599701  Lilly Wachowski|Lana Wachowski   \n",
       "5423   49047  105000000   716392705                 Alfonso CuarÃ³n   \n",
       "...      ...        ...         ...                             ...   \n",
       "8883   36047   15000000     5217498                    Mary Lambert   \n",
       "8788   18041   14000000     5108820                Davis Guggenheim   \n",
       "9932     636     777000     2437000                    George Lucas   \n",
       "9358   13154    8000000     2275557                  Mark L. Lester   \n",
       "10266   4722   13000000      428868                    Abel Ferrara   \n",
       "\n",
       "                                                  genres  \\\n",
       "4363                         Action|Crime|Drama|Thriller   \n",
       "2875                         Drama|Action|Crime|Thriller   \n",
       "1919   Action|Thriller|Science Fiction|Mystery|Adventure   \n",
       "4954           Adventure|Action|Thriller|Science Fiction   \n",
       "5423                      Science Fiction|Thriller|Drama   \n",
       "...                                                  ...   \n",
       "8883                                            Thriller   \n",
       "8788                              Drama|Mystery|Thriller   \n",
       "9932              Drama|Mystery|Science Fiction|Thriller   \n",
       "9358                                     Action|Thriller   \n",
       "10266                    Horror|Science Fiction|Thriller   \n",
       "\n",
       "                                    production_companies  \n",
       "4363   Legendary Pictures|Warner Bros.|DC Entertainme...  \n",
       "2875   DC Comics|Legendary Pictures|Warner Bros.|Syncopy  \n",
       "1919             Legendary Pictures|Warner Bros.|Syncopy  \n",
       "4954   Village Roadshow Pictures|NPV Entertainment|He...  \n",
       "5423          Warner Bros.|Heyday Films|Esperanto Filmoj  \n",
       "...                                                  ...  \n",
       "8883                               Warner Bros. Pictures  \n",
       "8788                               Warner Bros. Pictures  \n",
       "9932                      American Zoetrope|Warner Bros.  \n",
       "9358                                        Warner Bros.  \n",
       "10266  Warner Bros. Pictures|Dorset Productions|Rober...  \n",
       "\n",
       "[136 rows x 6 columns]"
      ]
     },
     "execution_count": 197,
     "metadata": {},
     "output_type": "execute_result"
    }
   ],
   "source": [
    "research_df = research_df[research_df['production_companies'].str.contains('Warner Bros.')]\n",
    "research_df = research_df[research_df['budget']>0]\n",
    "research_df = research_df[research_df['revenue']>0]\n",
    "research_df"
   ]
  },
  {
   "cell_type": "code",
   "execution_count": 201,
   "metadata": {},
   "outputs": [],
   "source": [
    "research_df['budget']=research_df['budget']/1000000\n",
    "research_df['revenue']=research_df['revenue']/1000000"
   ]
  },
  {
   "attachments": {},
   "cell_type": "markdown",
   "metadata": {},
   "source": [
    "having all the credintals ready I started the analysis process"
   ]
  },
  {
   "cell_type": "code",
   "execution_count": 202,
   "metadata": {},
   "outputs": [
    {
     "name": "stdout",
     "output_type": "stream",
     "text": [
      "           budget      revenue\n",
      "count  136.000000   136.000000\n",
      "mean    54.963434   146.642227\n",
      "std     47.748327   193.031256\n",
      "min      0.777000     0.428868\n",
      "25%     19.750000    30.074329\n",
      "50%     45.000000    78.561165\n",
      "75%     70.000000   163.615694\n",
      "max    250.000000  1081.041287\n"
     ]
    }
   ],
   "source": [
    "print(research_df[['budget','revenue']].describe())"
   ]
  },
  {
   "attachments": {},
   "cell_type": "markdown",
   "metadata": {},
   "source": [
    "knowing that the IQR is 70 - 20 decided to go for all the values between 2 millions and 7 millions to know the average revenue which was between 3-13.5 million exactly 97.4 million"
   ]
  },
  {
   "cell_type": "code",
   "execution_count": 203,
   "metadata": {},
   "outputs": [
    {
     "name": "stdout",
     "output_type": "stream",
     "text": [
      "          budget     revenue\n",
      "count  69.000000   69.000000\n",
      "mean   44.523188   97.440133\n",
      "std    14.358602   83.345413\n",
      "min    20.000000   10.539000\n",
      "25%    35.000000   30.303072\n",
      "50%    45.000000   79.958599\n",
      "75%    57.000000  135.458097\n",
      "max    70.000000  411.006740\n"
     ]
    },
    {
     "data": {
      "image/png": "[encoded data removed]",
      "text/plain": [
       "<Figure size 640x480 with 1 Axes>"
      ]
     },
     "metadata": {},
     "output_type": "display_data"
    }
   ],
   "source": [
    "\n",
    "research_df=research_df[research_df['budget']>=20]\n",
    "research_df=research_df[research_df['budget']<=70]\n",
    "research_df[['revenue']].plot(kind='hist');\n",
    "print(research_df[['budget','revenue']].describe())"
   ]
  },
  {
   "attachments": {},
   "cell_type": "markdown",
   "metadata": {},
   "source": [
    "<a id='conclusions'></a>\n",
    "## Conclusions\n",
    "\n",
    "> With the missing data about the production companies we could only provide 90% of the data tested having the last 10% would be great as well for the next analysis\n",
    "\n",
    "> After analyzing we found out that the most common genres is (Drama , Comedy , Thriller , Action , Romance ) in order Even though action isn't the first in common but it is the first in revenue and drama is the third after comedy\n",
    "\n",
    "> Then I wanted to know about the most 2 associated genres and It was Drama and Thriller with more than 1100 movie knowing that I could proceed to the next test\n",
    "\n",
    "> Which companies can do the best out of these 2 genres and it was one of the biggest Warner Bros. knowing that we had all the credintals to the last test\n",
    "\n",
    "> In average How much does it cost to produce 1 movie with all these credintals and what to expect with the revenue the answer was it can cost around (3->7 million) and it will return around (3->13.5 million) in average exactly as the mean is 97.4 million *but that's all theoraticly and can't be always true it can be effected with many other factors*\n",
    "\n",
    "## Submitting your Project \n",
    "\n",
    "> **Tip**: Before you submit your project, you need to create a .html or .pdf version of this notebook in the workspace here. To do that, run the code cell below. If it worked correctly, you should get a return code of 0, and you should see the generated .html file in the workspace directory (click on the orange Jupyter icon in the upper left).\n",
    "\n",
    "> **Tip**: Alternatively, you can download this report as .html via the **File** > **Download as** submenu, and then manually upload it into the workspace directory by clicking on the orange Jupyter icon in the upper left, then using the Upload button.\n",
    "\n",
    "> **Tip**: Once you've done this, you can submit your project by clicking on the \"Submit Project\" button in the lower right here. This will create and submit a zip file with this .ipynb doc and the .html or .pdf version you created. Congratulations!"
   ]
  },
  {
   "cell_type": "code",
   "execution_count": 204,
   "metadata": {
    "collapsed": true
   },
   "outputs": [
    {
     "data": {
      "text/plain": [
       "1"
      ]
     },
     "execution_count": 204,
     "metadata": {},
     "output_type": "execute_result"
    }
   ],
   "source": [
    "from subprocess import call\n",
    "call(['python', '-m', 'nbconvert', 'Investigate_a_Dataset.ipynb'])"
   ]
  },
  {
   "cell_type": "code",
   "execution_count": null,
   "metadata": {},
   "outputs": [],
   "source": []
  }
 ],
 "metadata": {
  "kernelspec": {
   "display_name": "base",
   "language": "python",
   "name": "python3"
  },
  "language_info": {
   "codemirror_mode": {
    "name": "ipython",
    "version": 3
   },
   "file_extension": ".py",
   "mimetype": "text/x-python",
   "name": "python",
   "nbconvert_exporter": "python",
   "pygments_lexer": "ipython3",
   "version": "3.9.13"
  },
  "vscode": {
   "interpreter": {
    "hash": "ef1a1953f506a3d9e7da30710ec0efdd0ec6b1f4f470892ef3a8e1787473cd5f"
   }
  }
 },
 "nbformat": 4,
 "nbformat_minor": 2
}
